{
 "cells": [
  {
   "cell_type": "markdown",
   "metadata": {},
   "source": [
    "# Exploration Notebook\n",
    "Use this notebook for ad-hoc experiments. Core logic lives in the `quantlab` package."
   ],
   "id": "2d256616baf71889"
  },
  {
   "cell_type": "code",
   "metadata": {
    "ExecuteTime": {
     "end_time": "2025-09-17T01:17:30.932804Z",
     "start_time": "2025-09-17T01:16:36.364343Z"
    }
   },
   "source": [
    "%pip install -q -r ../requirements.txt\n",
    "from quantlab.core.data import download_ohlcv, bt_feed_from_df\n",
    "from quantlab.core.engine import run_backtest\n",
    "from quantlab.core.analyzers import DEFAULT_ANALYZERS\n",
    "from quantlab.strategies import get_strategy_class\n",
    "from quantlab.utils.io import save_cerebro_plot\n",
    "import pandas as pd\n",
    "import os\n",
    "\n",
    "SYMBOL='AAPL'; START='2021-01-01'; END='2023-01-01'\n",
    "df = download_ohlcv(SYMBOL, START, END)\n",
    "feed = bt_feed_from_df(df)\n",
    "Strat = get_strategy_class('ma_cross')\n",
    "cerebro, strat = run_backtest(Strat, feed, sizer_stake=100, analyzers=DEFAULT_ANALYZERS, strategy_kwargs={'ma_period': 20})\n",
    "os.makedirs('../results', exist_ok=True)\n",
    "save_cerebro_plot(cerebro, '../results/ma_cross_AAPL.png')\n",
    "pd.DataFrame(getattr(strat, 'trades', [])).head()"
   ],
   "id": "a5077c6d058aa412",
   "outputs": [
    {
     "name": "stderr",
     "output_type": "stream",
     "text": [
      "\n",
      "[notice] A new release of pip is available: 24.0 -> 25.2\n",
      "[notice] To update, run: python.exe -m pip install --upgrade pip\n"
     ]
    },
    {
     "name": "stdout",
     "output_type": "stream",
     "text": [
      "Note: you may need to restart the kernel to use updated packages.\n"
     ]
    },
    {
     "name": "stderr",
     "output_type": "stream",
     "text": [
      "C:\\Users\\pochuang\\Desktop\\Project\\P0_Learning\\QuantProj\\quantlab\\core\\data.py:9: FutureWarning: YF.download() has changed argument auto_adjust default to True\n",
      "  df = yf.download(symbol, start=start, end=end, progress=False)\n"
     ]
    },
    {
     "data": {
      "text/plain": [
       "  entry_time  exit_time  size  entry_price exit_price    gross_pnl  \\\n",
       "0 2021-03-17 2021-03-19     0   121.054445       None  -404.978475   \n",
       "1 2021-03-23 2021-03-25     0   120.351834       None  -369.848013   \n",
       "2 2021-04-01 2021-05-03     0   120.673866       None   817.762418   \n",
       "3 2021-06-07 2021-08-03     0   123.332391       None  1919.828870   \n",
       "4 2021-08-04 2021-08-09     0   143.957860       None   -83.183149   \n",
       "\n",
       "       net_pnl  commission  \n",
       "0  -428.784385   23.805911  \n",
       "1  -393.548532   23.700519  \n",
       "2   792.809882   24.952536  \n",
       "3  1893.242563   26.586307  \n",
       "4  -111.891538   28.708389  "
      ],
      "text/html": [
       "<div>\n",
       "<style scoped>\n",
       "    .dataframe tbody tr th:only-of-type {\n",
       "        vertical-align: middle;\n",
       "    }\n",
       "\n",
       "    .dataframe tbody tr th {\n",
       "        vertical-align: top;\n",
       "    }\n",
       "\n",
       "    .dataframe thead th {\n",
       "        text-align: right;\n",
       "    }\n",
       "</style>\n",
       "<table border=\"1\" class=\"dataframe\">\n",
       "  <thead>\n",
       "    <tr style=\"text-align: right;\">\n",
       "      <th></th>\n",
       "      <th>entry_time</th>\n",
       "      <th>exit_time</th>\n",
       "      <th>size</th>\n",
       "      <th>entry_price</th>\n",
       "      <th>exit_price</th>\n",
       "      <th>gross_pnl</th>\n",
       "      <th>net_pnl</th>\n",
       "      <th>commission</th>\n",
       "    </tr>\n",
       "  </thead>\n",
       "  <tbody>\n",
       "    <tr>\n",
       "      <th>0</th>\n",
       "      <td>2021-03-17</td>\n",
       "      <td>2021-03-19</td>\n",
       "      <td>0</td>\n",
       "      <td>121.054445</td>\n",
       "      <td>None</td>\n",
       "      <td>-404.978475</td>\n",
       "      <td>-428.784385</td>\n",
       "      <td>23.805911</td>\n",
       "    </tr>\n",
       "    <tr>\n",
       "      <th>1</th>\n",
       "      <td>2021-03-23</td>\n",
       "      <td>2021-03-25</td>\n",
       "      <td>0</td>\n",
       "      <td>120.351834</td>\n",
       "      <td>None</td>\n",
       "      <td>-369.848013</td>\n",
       "      <td>-393.548532</td>\n",
       "      <td>23.700519</td>\n",
       "    </tr>\n",
       "    <tr>\n",
       "      <th>2</th>\n",
       "      <td>2021-04-01</td>\n",
       "      <td>2021-05-03</td>\n",
       "      <td>0</td>\n",
       "      <td>120.673866</td>\n",
       "      <td>None</td>\n",
       "      <td>817.762418</td>\n",
       "      <td>792.809882</td>\n",
       "      <td>24.952536</td>\n",
       "    </tr>\n",
       "    <tr>\n",
       "      <th>3</th>\n",
       "      <td>2021-06-07</td>\n",
       "      <td>2021-08-03</td>\n",
       "      <td>0</td>\n",
       "      <td>123.332391</td>\n",
       "      <td>None</td>\n",
       "      <td>1919.828870</td>\n",
       "      <td>1893.242563</td>\n",
       "      <td>26.586307</td>\n",
       "    </tr>\n",
       "    <tr>\n",
       "      <th>4</th>\n",
       "      <td>2021-08-04</td>\n",
       "      <td>2021-08-09</td>\n",
       "      <td>0</td>\n",
       "      <td>143.957860</td>\n",
       "      <td>None</td>\n",
       "      <td>-83.183149</td>\n",
       "      <td>-111.891538</td>\n",
       "      <td>28.708389</td>\n",
       "    </tr>\n",
       "  </tbody>\n",
       "</table>\n",
       "</div>"
      ]
     },
     "execution_count": 1,
     "metadata": {},
     "output_type": "execute_result"
    }
   ],
   "execution_count": 1
  }
 ],
 "metadata": {
  "language_info": {
   "name": "python"
  },
  "kernelspec": {
   "name": "python3",
   "language": "python",
   "display_name": "Python 3 (ipykernel)"
  }
 },
 "nbformat": 4,
 "nbformat_minor": 5
}
