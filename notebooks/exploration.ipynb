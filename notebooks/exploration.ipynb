{
  "cells": [
    {
      "cell_type": "markdown",
      "metadata": {},
      "source": [
        "# Exploration Notebook\n",
        "Use this notebook for ad-hoc experiments. Core logic lives in the `quantlab` package."
      ]
    },
    {
      "cell_type": "code",
      "metadata": {},
      "source": [
        "%pip install -q -r ../requirements.txt\n",
        "from quantlab.core.data import download_ohlcv, bt_feed_from_df\n",
        "from quantlab.core.engine import run_backtest\n",
        "from quantlab.core.analyzers import DEFAULT_ANALYZERS\n",
        "from quantlab.strategies import get_strategy_class\n",
        "from quantlab.utils.io import save_cerebro_plot\n",
        "import pandas as pd\n",
        "import os\n",
        "\n",
        "SYMBOL='AAPL'; START='2021-01-01'; END='2023-01-01'\n",
        "df = download_ohlcv(SYMBOL, START, END)\n",
        "feed = bt_feed_from_df(df)\n",
        "Strat = get_strategy_class('ma_cross')\n",
        "cerebro, strat = run_backtest(Strat, feed, sizer_stake=100, analyzers=DEFAULT_ANALYZERS, strategy_kwargs={'ma_period': 20})\n",
        "os.makedirs('../results', exist_ok=True)\n",
        "save_cerebro_plot(cerebro, '../results/ma_cross_AAPL.png')\n",
        "pd.DataFrame(getattr(strat, 'trades', [])).head()"
      ]
    }
  ],
  "metadata": {
    "language_info": {
      "name": "python"
    }
  },
  "nbformat": 4,
  "nbformat_minor": 5
}